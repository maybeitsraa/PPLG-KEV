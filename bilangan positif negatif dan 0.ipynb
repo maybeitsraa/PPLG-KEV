{
  "nbformat": 4,
  "nbformat_minor": 0,
  "metadata": {
    "colab": {
      "provenance": [],
      "authorship_tag": "ABX9TyO4G76+VTHSKm0Yog+rz3px",
      "include_colab_link": true
    },
    "kernelspec": {
      "name": "python3",
      "display_name": "Python 3"
    },
    "language_info": {
      "name": "python"
    }
  },
  "cells": [
    {
      "cell_type": "markdown",
      "metadata": {
        "id": "view-in-github",
        "colab_type": "text"
      },
      "source": [
        "<a href=\"https://colab.research.google.com/github/maybeitsraa/PPLG-KEV/blob/main/bilangan%20positif%20negatif%20dan%200.ipynb\" target=\"_parent\"><img src=\"https://colab.research.google.com/assets/colab-badge.svg\" alt=\"Open In Colab\"/></a>"
      ]
    },
    {
      "cell_type": "markdown",
      "source": [
        "# 1. Buatlah sebuah program untuk menentukan bilangan positif,negatif dan nol"
      ],
      "metadata": {
        "id": "eOfFexPJUFlS"
      }
    },
    {
      "cell_type": "code",
      "execution_count": 3,
      "metadata": {
        "colab": {
          "base_uri": "https://localhost:8080/"
        },
        "id": "H9m8JC2wQQDt",
        "outputId": "1f1be7c1-58da-496d-a6ad-4f4215e53940"
      },
      "outputs": [
        {
          "output_type": "stream",
          "name": "stdout",
          "text": [
            "tulis sebuah angka5\n",
            "bilangan positif.\n"
          ]
        }
      ],
      "source": [
        "bilangan = float(input(\"tulis sebuah angka\"))\n",
        "if bilangan > 0:\n",
        "    print(\"bilangan positif.\")\n",
        "elif bilangan < 0:\n",
        "    print(\"bilangan negatif.\")\n",
        "else:\n",
        "    print(\"bilangan ini adalah nol.\")"
      ]
    },
    {
      "cell_type": "markdown",
      "source": [
        "penjelasan codingan di atas itu menentukan positif atau negatif suatu bilangan.\n",
        "bilangan positif yang berati bilangan yang lebih besar dari angka 0,\n",
        "contoh angka bilangan positif:1,2,3,4,5,dst,\n",
        "bilangan negatif yang berati bilangan yang lebih kecil daring angka 0,\n",
        "contoh angka bilangan negatif:-1,-2,-3,-4,-5,dst"
      ],
      "metadata": {
        "id": "3YmsaBqQR4Ds"
      }
    }
  ]
}